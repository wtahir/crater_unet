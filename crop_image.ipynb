{
 "cells": [
  {
   "cell_type": "code",
   "execution_count": null,
   "metadata": {},
   "outputs": [],
   "source": [
    "import os\n",
    "from PIL import Image"
   ]
  },
  {
   "cell_type": "code",
   "execution_count": null,
   "metadata": {},
   "outputs": [],
   "source": [
    "os.chdir('/home/waqas/projects/unet/')\n",
    "\n",
    "def crop(path, input, height, width, k):\n",
    "    Image.MAX_IMAGE_PIXELS = None\n",
    "    im = Image.open(input)\n",
    "    imgwidth, imgheight = im.size\n",
    "    for i in range(0,imgheight,height):\n",
    "        for j in range(0,imgwidth,width):\n",
    "            box = (j, i, j+width, i+height)\n",
    "            a = im.crop(box)\n",
    "#             try:\n",
    "#             o = a.crop(area)\n",
    "            a.save(os.path.join(path,\"%s.png\" % k))\n",
    "#             except:\n",
    "#                 print('hull')\n",
    "            k +=1\n",
    "crop('/home/waqas/projects/unet/', 'moon_image.jpg', 256, 256 , 0)"
   ]
  },
  {
   "cell_type": "code",
   "execution_count": null,
   "metadata": {},
   "outputs": [],
   "source": [
    "\n",
    "def calc_f1(df_gt, df_pr, overlap):\n",
    "    tp = len(overlap)\n",
    "    fp = len(df_pr) - tp\n",
    "    fn = len(df_gt) - tp\n",
    "    p = tp/ (tp + fp)\n",
    "    r = tp/ (tp + fn) \n",
    "    f1 = 2 * (p * r)/(p + r)\n",
    "    return (\"precision, %s. recall %s f1 %s\" %  (p *100, r*100, f1*100))"
   ]
  }
 ],
 "metadata": {
  "kernelspec": {
   "display_name": ".maskenv",
   "language": "python",
   "name": ".maskenv"
  },
  "language_info": {
   "codemirror_mode": {
    "name": "ipython",
    "version": 3
   },
   "file_extension": ".py",
   "mimetype": "text/x-python",
   "name": "python",
   "nbconvert_exporter": "python",
   "pygments_lexer": "ipython3",
   "version": "3.6.7"
  }
 },
 "nbformat": 4,
 "nbformat_minor": 2
}
